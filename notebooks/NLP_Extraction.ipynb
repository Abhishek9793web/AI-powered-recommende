{
 "cells": [
  {
   "cell_type": "code",
   "execution_count": null,
   "id": "46b6f259",
   "metadata": {
    "vscode": {
     "languageId": "plaintext"
    }
   },
   "outputs": [],
   "source": [
    "import sys\n",
    "sys.path.append('../backend')  # Adjust path as needed\n",
    "\n",
    "from nlp.extract_info import parse_transfusion_report\n"
   ]
  },
  {
   "cell_type": "code",
   "execution_count": null,
   "id": "107073ac",
   "metadata": {
    "vscode": {
     "languageId": "plaintext"
    }
   },
   "outputs": [],
   "source": [
    "report = \"\"\"\n",
    "Patient has blood group B+ and developed Anti-K and Anti-E after transfusion on 12 Feb 2024.\n",
    "Noted reactions were Febrile and Urticarial.\n",
    "\"\"\"\n"
   ]
  },
  {
   "cell_type": "code",
   "execution_count": null,
   "id": "134e5f28",
   "metadata": {
    "vscode": {
     "languageId": "plaintext"
    }
   },
   "outputs": [],
   "source": [
    "parsed = parse_transfusion_report(report)\n",
    "parsed\n"
   ]
  },
  {
   "cell_type": "code",
   "execution_count": null,
   "id": "d3769068",
   "metadata": {
    "vscode": {
     "languageId": "plaintext"
    }
   },
   "outputs": [],
   "source": [
    "import json\n",
    "\n",
    "with open(\"parsed_patient.json\", \"w\") as f:\n",
    "    json.dump(parsed, f)\n"
   ]
  }
 ],
 "metadata": {
  "language_info": {
   "name": "python"
  }
 },
 "nbformat": 4,
 "nbformat_minor": 5
}
