{
 "cells": [
  {
   "cell_type": "code",
   "execution_count": null,
   "id": "eabd1063",
   "metadata": {
    "vscode": {
     "languageId": "plaintext"
    }
   },
   "outputs": [],
   "source": [
    "import sys, json\n",
    "sys.path.append('../backend')\n",
    "\n",
    "from services.matcher import get_best_matches\n"
   ]
  },
  {
   "cell_type": "code",
   "execution_count": null,
   "id": "b45e6011",
   "metadata": {
    "vscode": {
     "languageId": "plaintext"
    }
   },
   "outputs": [],
   "source": [
    "with open(\"parsed_patient.json\") as f:\n",
    "    patient = json.load(f)\n"
   ]
  },
  {
   "cell_type": "code",
   "execution_count": null,
   "id": "a5589c49",
   "metadata": {
    "vscode": {
     "languageId": "plaintext"
    }
   },
   "outputs": [],
   "source": [
    "donors = [\n",
    "    {\n",
    "        \"unit_id\": \"U1\",\n",
    "        \"blood_type\": \"B+\",\n",
    "        \"minor_antigens\": [\"K\"],\n",
    "        \"availability\": True,\n",
    "        \"is_fresh\": True\n",
    "    },\n",
    "    {\n",
    "        \"unit_id\": \"U2\",\n",
    "        \"blood_type\": \"B+\",\n",
    "        \"minor_antigens\": [\"E\"],\n",
    "        \"availability\": True,\n",
    "        \"is_fresh\": True\n",
    "    },\n",
    "    {\n",
    "        \"unit_id\": \"U3\",\n",
    "        \"blood_type\": \"B+\",\n",
    "        \"minor_antigens\": [],\n",
    "        \"availability\": True,\n",
    "        \"is_fresh\": False\n",
    "    }\n",
    "]\n"
   ]
  },
  {
   "cell_type": "code",
   "execution_count": null,
   "id": "25bdb7ad",
   "metadata": {
    "vscode": {
     "languageId": "plaintext"
    }
   },
   "outputs": [],
   "source": [
    "matches = get_best_matches(patient, donors)\n",
    "matches\n"
   ]
  }
 ],
 "metadata": {
  "language_info": {
   "name": "python"
  }
 },
 "nbformat": 4,
 "nbformat_minor": 5
}
